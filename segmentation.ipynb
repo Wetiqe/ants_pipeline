{
 "cells": [
  {
   "cell_type": "code",
   "execution_count": null,
   "id": "6357dbb3-53da-4919-a236-12435fe7e2bf",
   "metadata": {},
   "outputs": [],
   "source": [
    "import os \n",
    "import time\n",
    "\n",
    "import ants\n",
    "from antspynet.utilities import deep_atropos, preprocess_brain_image"
   ]
  },
  {
   "cell_type": "markdown",
   "id": "2d397ec7-c043-4e80-a623-33d502565312",
   "metadata": {},
   "source": [
    "``` python\n",
    "# Preprocessing, no need to do this, just preprocess the image in deep_atropos\n",
    "\n",
    "preprocessed_image = preprocess_brain_image(raw_t1,verbose=False, do_bias_correction=True, do_denoising=True,\n",
    "                        brain_extraction_modality='t1', template_transform_type='Affine')\n",
    "preprocessed_image['preprocessed_image'].to_file('t1_brain.nii.gz')\n",
    "preprocessed_image['brain_mask'].to_file('t1_brain_mask.nii.gz')\n",
    "preprocessed_t1 = ants.image_read(\"t1_brain.nii.gz\")\n",
    "```"
   ]
  },
  {
   "cell_type": "code",
   "execution_count": 2,
   "id": "394ea0b5-0821-4c5b-86c7-430f00514191",
   "metadata": {},
   "outputs": [],
   "source": [
    "raw_t1 = ants.image_read(\"t1.nii.gz\")\n"
   ]
  },
  {
   "cell_type": "code",
   "execution_count": null,
   "id": "7526b0c5-09fb-4296-b5a5-9a43b261ee1c",
   "metadata": {},
   "outputs": [],
   "source": [
    "atropos = deep_atropos(raw_t1,do_preprocessing=True, use_spatial_priors=1, antsxnet_cache_directory=None, verbose=False)"
   ]
  },
  {
   "cell_type": "code",
   "execution_count": 9,
   "id": "969ddb41-f223-476e-8afb-905ef62c4224",
   "metadata": {},
   "outputs": [],
   "source": [
    "!rm Untitled.ipynb*"
   ]
  },
  {
   "cell_type": "markdown",
   "id": "14af23f1-8102-4985-9ba4-1bfca95ff183",
   "metadata": {},
   "source": [
    "Preprocessing should be consist with the training data consisted of:\n",
    "* n4 bias correction,\n",
    "* denoising,\n",
    "* brain extraction\n",
    "* affine registration to MNI."
   ]
  },
  {
   "cell_type": "code",
   "execution_count": 4,
   "id": "7a110fd9-ff74-45ab-9512-54e85d22fa99",
   "metadata": {},
   "outputs": [],
   "source": [
    "outfile='seg_mask.nii.gz'\n",
    "atropos['segmentation_image'].to_file(outfile)"
   ]
  },
  {
   "cell_type": "markdown",
   "id": "4c5f7418-1cea-462f-9afb-1cfa522d7071",
   "metadata": {},
   "source": [
    "Perform Atropos-style six tissue segmentation using deep learning.\n",
    "\n",
    "The labeling is as follows: \n",
    "* Label 0 : background \n",
    "* Label 1 : CSF \n",
    "* Label 2 : gray matter \n",
    "* Label 3 : white matter \n",
    "* Label 4 : deep gray matter \n",
    "* Label 5 : brain stem  \n",
    "* Label 6 : cerebellum\n",
    "\n"
   ]
  },
  {
   "cell_type": "code",
   "execution_count": 5,
   "id": "7afcdda3-a3f6-45e0-91d8-c69cc8e4396e",
   "metadata": {},
   "outputs": [],
   "source": [
    "label = 2 # gray matter"
   ]
  },
  {
   "cell_type": "code",
   "execution_count": 6,
   "id": "678f2b1b-de18-40bf-bc15-7c863df5402c",
   "metadata": {},
   "outputs": [],
   "source": [
    "mask_file = f'mask_label{label}.nii.gz' "
   ]
  },
  {
   "cell_type": "code",
   "execution_count": 7,
   "id": "b8056c77-48d0-48b9-be00-b702989cbce2",
   "metadata": {},
   "outputs": [],
   "source": [
    "! fslmaths {outfile} -thr {label} -uthr {label} -bin {mask_file}"
   ]
  },
  {
   "cell_type": "code",
   "execution_count": 8,
   "id": "a253139a-30ae-48fc-9a7b-322dc861deee",
   "metadata": {},
   "outputs": [],
   "source": [
    "! fslmaths t1.nii.gz -mas {mask_file} gray_matter.nii.gz"
   ]
  },
  {
   "cell_type": "code",
   "execution_count": null,
   "id": "6890aa37-f8d0-4f5b-93d8-880d2b825fd1",
   "metadata": {},
   "outputs": [],
   "source": []
  }
 ],
 "metadata": {
  "kernelspec": {
   "display_name": "antspy",
   "language": "python",
   "name": "ants"
  },
  "language_info": {
   "codemirror_mode": {
    "name": "ipython",
    "version": 3
   },
   "file_extension": ".py",
   "mimetype": "text/x-python",
   "name": "python",
   "nbconvert_exporter": "python",
   "pygments_lexer": "ipython3",
   "version": "3.9.12"
  },
  "widgets": {
   "application/vnd.jupyter.widget-state+json": {
    "state": {},
    "version_major": 2,
    "version_minor": 0
   }
  }
 },
 "nbformat": 4,
 "nbformat_minor": 5
}
